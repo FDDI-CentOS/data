{
  "nbformat": 4,
  "nbformat_minor": 0,
  "metadata": {
    "colab": {
      "name": "Google News URL Scraping and Sentiment Analysis.ipynb",
      "version": "0.3.2",
      "provenance": [],
      "collapsed_sections": [],
      "include_colab_link": true
    },
    "kernelspec": {
      "name": "python3",
      "display_name": "Python 3"
    }
  },
  "cells": [
    {
      "cell_type": "markdown",
      "metadata": {
        "id": "view-in-github",
        "colab_type": "text"
      },
      "source": [
        "<a href=\"https://colab.research.google.com/github/FDDI-CentOS/data/blob/master/Google_News_URL_Scraping_and_Sentiment_Analysis.ipynb\" target=\"_parent\"><img src=\"https://colab.research.google.com/assets/colab-badge.svg\" alt=\"Open In Colab\"/></a>"
      ]
    },
    {
      "cell_type": "code",
      "metadata": {
        "id": "Tm07xEtxG__7",
        "colab_type": "code",
        "colab": {}
      },
      "source": [
        "# Google News Search and Sentiment Analysis\n",
        "# Run installs once for package prep then comment out to reduce overhead\n",
        "# !pip install textblob bs4 requests \n",
        "# !pip install pydrive\n",
        "# djarguello@ 8-17-19\n",
        "\n",
        "from textblob import TextBlob\n",
        "from bs4 import BeautifulSoup\n",
        "import requests\n",
        "import re\n",
        "\n",
        "# Initialize lists: Update keywords to tune results\n",
        "other_bets = ['waymo',\n",
        "              'verily',\n",
        "              'access',\n",
        "              'deepmind',\n",
        "              'calico',\n",
        "              'capitalg',\n",
        "              'googleventures', \n",
        "              'sidewalk', \n",
        "              'wing',\n",
        "              'loon',\n",
        "              'jigsaw',\n",
        "              'makani',\n",
        "              'x']\n",
        "\n",
        "keywords = ['Waymo+AND+lyft',\n",
        "            'verily','access',\n",
        "            'deepmind',\n",
        "            'calico',\n",
        "            'capitalg',\n",
        "            'googleventures', \n",
        "            'sidewalk', \n",
        "            'wing',\n",
        "            'loon',\n",
        "            'jigsaw',\n",
        "            'makani',\n",
        "            'x']\n",
        "\n",
        "# Analysis Class Object\n",
        "class Analysis:\n",
        "  def __init__(self, term):\n",
        "      self.term = term\n",
        "      self.subjectivity = 0\n",
        "      self.sentiment = 0\n",
        "      self.url = 'https://www.google.com/search?q={0}&source=lmns&tbm=nws&tbs=qdr:m'.format(self.term) # Google News Monthly Feed\n",
        "      \n",
        "  def run(self):\n",
        "    file = []\n",
        "    response = requests.get(self.url)\n",
        "    # Print(response.text) # debugging / review response results\n",
        "    soup = BeautifulSoup(response.text,'html.parser')\n",
        "    headline_results = soup.find_all('div', class_='st')\n",
        "    for h in headline_results:\n",
        "      temp = str(h)\n",
        "      temp = re.sub('\\ |\\?|\\.|\\!|\\/|\\;|\\:', ' ', temp)\n",
        "      temp = re.sub('\\<.*?>', ' ', temp)\n",
        "      temp = re.sub('\\xa0','',temp)\n",
        "      temp = re.sub('\\s{2,}', ' ', temp) # Test code\n",
        "      temp = temp.strip('<div class=\"st\">')\n",
        "      file.append(temp) \n",
        "      blob = TextBlob(h.get_text())\n",
        "      self.sentiment += blob.sentiment.polarity / len(headline_results)\n",
        "      self.subjectivity += blob.sentiment.subjectivity / len(headline_results)\n",
        "    return file"
      ],
      "execution_count": 0,
      "outputs": []
    },
    {
      "cell_type": "code",
      "metadata": {
        "id": "AKHmtYqUZEY5",
        "colab_type": "code",
        "colab": {}
      },
      "source": [
        "# Analysis Function Run for Each Bet\n",
        "\n",
        "def run_analysis(bet,keywords):\n",
        "  file = []\n",
        "  a = Analysis(keywords) # Insert keyword terms in Boolean logic, use '+' between terms\n",
        "  new = a.run()\n",
        "  \n",
        "  # File output and formatting\n",
        "  file.append('Bet: '+ bet + '|')\n",
        "  file.append('Keywords Search: ' + str(a.term) +'|')\n",
        "  file.append('Query Link:' + a.url + '|')\n",
        "  file.append('Subjectivity: '+ str(round(a.subjectivity,5)) + ' Sentiment: ' + str(round(a.sentiment,5))+\"|\")\n",
        "  # Iterate through Analysis object to append results\n",
        "  for row in new:\n",
        "    file.append(row+\"|\")\n",
        "  file.append('\\n----------------------------------------------------------------|\\n')\n",
        "  return file"
      ],
      "execution_count": 0,
      "outputs": []
    },
    {
      "cell_type": "code",
      "metadata": {
        "id": "LzExe2RNg0QK",
        "colab_type": "code",
        "colab": {}
      },
      "source": [
        "# File Writer Function Run for Each Analysis Row for Each Bet\n",
        "\n",
        "def file_writer(filename, input):\n",
        "  with open(filename,\"w\") as f:\n",
        "      print(input, file=f)"
      ],
      "execution_count": 0,
      "outputs": []
    },
    {
      "cell_type": "code",
      "metadata": {
        "id": "IiDaDaCbhsyC",
        "colab_type": "code",
        "colab": {}
      },
      "source": [
        "# Review Text Files: Iterate Over Bet Filename List\n",
        "\n",
        "def review_text_files(filename):\n",
        "  with open(filename, 'r')as f:\n",
        "    for row in f:\n",
        "      print(row)"
      ],
      "execution_count": 0,
      "outputs": []
    },
    {
      "cell_type": "code",
      "metadata": {
        "id": "NfSYqQoKeCxb",
        "colab_type": "code",
        "outputId": "560c22ea-b858-4776-8ba9-882e0fd72bb5",
        "colab": {
          "base_uri": "https://localhost:8080/",
          "height": 479
        }
      },
      "source": [
        "# Run Analysis for Each Bet and Output to txt File\n",
        "for count, bet in enumerate(other_bets):\n",
        "  # Initialize file naming through iterative loop\n",
        "  txt_filename = (str(bet) + \".txt\")\n",
        "  analysis_file = run_analysis(bet, keywords[count])\n",
        "\n",
        "  # Text file output of analsis contents\n",
        "  file_writer(txt_filename,analysis_file)\n",
        "  review_text_files(txt_filename)"
      ],
      "execution_count": 0,
      "outputs": [
        {
          "output_type": "stream",
          "text": [
            "['Bet: waymo|', 'Keywords Search: Waymo+AND+lyft|', 'Query Link:https://www.google.com/search?q=Waymo+AND+lyft&source=lmns&tbm=nws&tbs=qdr:m|', 'Subjectivity: 0.32462 Sentiment: 0.13322|', \"Alphabet's self-driving car company Waymo has built the world's smartest The need for more riders was the reason Waymo partnered with Lyft for a fleet of 10|\", \"Alphabet's autonomous driving and robotaxi company Waymo teamed up with fellow Alphabet company and AI specialist DeepMind to develop new training|\", \"The launch of Lyft's data set comes after Waymo revealed a high-quality multimodal sensor data set for autonomous driving at the IEEE Conference on|\", 'In the past few months the two largest rideshare platforms, Lyft and Uber, have gone public despite This history of testing makes Waymo a good match for Lyf|', \"Alphabet's (GOOGL) Waymo has sued a Clearwater, Florida, company going by the same name This news comes after Lyft ( LYFT ) came second with 28 3%|\", \"Waymo CEO John Krafcik, Los Angeles Mayor Eric Garcetti, Lyft co-founder John Zimmer, and oft-cited industry experts like Duke's Mary “Missy” Cummings,|\", \"Aug 7 (Reuters) - Ride-hailing company Lyft Inc on Wednesday beat Wall Street It has also partnered with Google's Waymo to deploy vehicles on Lyft app|\", 'Lyft beat ridiculously conservative Q2 guidance of a market shift to self-driving cars that brings in new competitive from Waymo (NASDAQ GOOGL) (GOOG),|', 'Its partnerships with Aptiv in Las Vegas and Waymo in Phoenix have helped Lyft test AVs in real-world situations and collect data \"It\\'s the future of the business,|', 'Mountain View-based self-driving technology company Waymo will now be picking up Lyft riders in Phoenix are very soon Waymo will be adding its 10|', '\\n----------------------------------------------------------------|\\n']\n",
            "\n",
            "['Bet: verily|', 'Keywords Search: verily|', 'Query Link:https://www.google.com/search?q=verily&source=lmns&tbm=nws&tbs=qdr:m|', 'Subjectivity: 0.31593 Sentiment: 0.03141|', \"Verily's Luba Greenwood has told MobiHealthNews that she left the Alphabet subsidiary to pursue lecturing at Harvard University as well continue her work on|\", 'A company under the same umbrella as Google, called Verily , has teamed up with Procter &amp Gamble brand Pampers to use sensors, video surveillance an|', 'It all started on a high note When Planned Parenthood hired Dr Leana Wen to be its next president in September 2018, she was only the second doctor to ever|', \"Google's life sciences sister company Verily has created a baby monitoring system based around “smart nappies”, working with Procter &amp Gamble's Pampers to|\", 'I have a very specific form of YouTube addiction that sometimes crops up late at night watching videos of Downton Abbey actress Michelle Dockery In real life|', 'Now, after years of adjusting to post-Olympic life and a month after getting married, Meryl shares with Verily how she balances the reality of everyday life with the|', 'Verily , an Alphabet company that was formerly known as Google Life Sciences, teamed up with Dexcom to bring new continuous monitoring hardware to marke|', \"The company is in the midst of developing a digital surgery platform in partnership with Johnson &amp Johnson's Ethicon and Verily , a unit of Google paren|\", \"If you're into reading about technology, you've likely heard of Sherry Turkle As someone who has been studying technology use for decades, has written|\", \"Verb was formed in 2015 as a collaboration between Johnson &amp Johnson (NYSE JNJ) and Google's Verily Life Sciences The startup is developing a “dig|\", '\\n----------------------------------------------------------------|\\n']\n",
            "\n",
            "['Bet: access|', 'Keywords Search: access|', 'Query Link:https://www.google.com/search?q=access&source=lmns&tbm=nws&tbs=qdr:m|', 'Subjectivity: 0.33839 Sentiment: 0.00767|', 'MAUNA KEA, Hawaiʻi - On social media, the Hilo state senator explained why he believes Maunakea Access Road is still included in the Hawaiian Home|', 'Apple is suing a company, Corellium LLC, that it says is illegally reselling virtual copies of its iOS operating system under the pretense of legitimate security|', 'Apple is currently running an internal early access program for its employees, charging a small subscription of $0 49 mo, with one month free trial It says the|', 'Abigail Spanberger, D-7th, hosted a Rural Broadband Summit at Louisa County High School on Saturday to discuss initiatives to bring internet access to rur|', 'Centers for Medicare &amp Medicaid Services (CMS) Administrator Seema Verma recently lamented that bureaucratic barriers can limit patient access to|', 'On August 16, WisconsinEye Senior Producer Steve Walters and WisPolitics com Editor JR Ross discussed a Republican led bill to increase access to birth|', 'The long-standing debate over open access to research results has been marked by a geographic divide In Europe, some public funders have launche|', 'In this early access phases, according to 9to5Mac, includes a small subscription price of $0 49 per month with a one-month free trial to start (this is almo|', 'Lounge access is lovely before your flight or on a layover You get free snacks and beverages, generally comfortable seating, high-speed Wi-Fi access an|', 'Apple has started an internal employee-only testing round of Apple Arcade, giving them a chance to check out and stress-test the highly anticipated game|', '\\n----------------------------------------------------------------|\\n']\n",
            "\n",
            "['Bet: deepmind|', 'Keywords Search: deepmind|', 'Query Link:https://www.google.com/search?q=deepmind&source=lmns&tbm=nws&tbs=qdr:m|', 'Subjectivity: 0.65454 Sentiment: -0.06353|', \"DeepMind , likely the world's largest research-focused artificial intelligence operation, is losing a lot of money fast, more than $1 billion in the past three year|\", 'DeepMind , the Google-owned artificial intelligence firm on a mission to create human-level AI, had an expensive year in 2018, according to documents filed with|', 'Five years after Google acquired DeepMind , the health and artificial intelligence group is unveiling its biggest breakthrough yet in health care Its technology|', \"DeepMind has joined the ranks of those using AI to save fragile wildlife populations, and it's doing that on a grand scale The company is partnering with|\", 'Last week, news broke that famous UK-based artificial intelligence research lab DeepMind was stacking up huge losses for its parent company Alphabet In|', \"DeepMind , the AI and robotics research company owned by Google's parent company Alphabet, has seen its yearly losses mount to more than half a billion|\", 'He is here to inspect what will be the new headquarters of DeepMind , the startup he founded in 2010 with Shane Legg, a fellow researcher at University College|', 'DeepMind is teaming up with Waymo, a fellow unit of Google parent Alphabet, to train self-driving cars, using the same method that was created to teach artif|', \"The health unit of Google's London-based AI powerhouse DeepMind published research that claims its machine learning (ML) AI can accurately predict 90% of|\", 'DeepMind , an artificial intelligence company based in London that Google bought for £400 million ($486 million) in 2014, is deeply in debt and owes its paren|', '\\n----------------------------------------------------------------|\\n']\n",
            "\n",
            "['Bet: calico|', 'Keywords Search: calico|', 'Query Link:https://www.google.com/search?q=calico&source=lmns&tbm=nws&tbs=qdr:m|', 'Subjectivity: 0.42989 Sentiment: 0.13278|', 'This calico long-hair female, nicknamed “Daisy” by Halfway Home Pet Rescue volunteers, was found on the Jemtland Road in New Sweden and neede|', \"ZILLAH — Guests at the Calico Cat Cafe can't bring their favorite felines to Washington's first cat cafe east of the Cascades But Biscuits, Gravy and the rest of the|\", 'Calico Coatings has taken initiative in improving its coating process Calico recently earned another competitive advantage by completing all the necessary|', 'A lesser cat than Squish would be six feet underground But 12 years after she was attacked and shaken unconscious by a trio of dogs, the short-haired calico|', \"Also, while we were in Ghost Town, we experienced Calico River Rapids, the renovated water raft ride at Knott's Berry Farm The attraction formerly known|\", 'Age 1 year, 3 months Breed Female domestic short hair Anya is a lover, a looker and a dreamer She can frequently be found laying on the highest level of our|', 'AHMEDABAD In 2010, the Gujarat high court told the Ahmedabad Municipal Corporation (AMC) to restore the Calico Dome, with its original mathem|', 'When CALICO opted to go on hiatus, the pair, who now reside in Venice, California, connected after K P spotted Johnny playing a gig with visiting Nashville|', 'All homes on Patterson Drive from Calico Mine Road south were evacuated earlier Thursday night These evacuations included Patterson Road, Calico Mine|', \"Stripes, swirls, spots, or even solids, there's a long list of cat coat patterns to fall in love with For me, the unique mix on a tortie and the colorful patches of a calico|\", '\\n----------------------------------------------------------------|\\n']\n",
            "\n",
            "['Bet: capitalg|', 'Keywords Search: capitalg|', 'Query Link:https://www.google.com/search?q=capitalg&source=lmns&tbm=nws&tbs=qdr:m|', 'Subjectivity: 0.26462 Sentiment: 0.02864|', \"According to its most recent proxy filing, the company's largest shareholder, CapitalG LP, owns 13 8%, while Ms Marcelo owns 8 3% The Journal reporte|\", 'Aye Finance, CapitalG backed finetch lender, has raised Rs 55 crores from DCB Bank through a securitization deal Aye will use these funds to grow its loan|', \"marketing software, including a $100 million round last summer at a valuation of $1 5 billion The company's investors include Accel, Sequoia and CapitalG|\", \"Attica public health inspectors have imposed a financial penalty on an employee of the capital's G Gennimata hospital after she was found to be smoking on the|\", 'Aye claims to be the only Indian finance company to be funded by CapitalG (erstwhile Google Capital), the growth equity investment fund of Alphabet inc ,|', \"Andreessen Horowitz, Peter Thiel, Elon Musk, Google's venture arm Capital G , Sequoia Capital and Kleiner Perkins, among others, according to Pitchbook|\", 'Earlier this year, CarDekho raised Series C funding of $110 million from Sequoia India, Hillhouse, CapitalG (Alphabet growth investment arm) and Axis Bank|', 'Fund, Lightspeed Venture Partners, New Enterprise Associates, Redpoint, Qualcomm Ventures, Greenspring Associates and Google subsidiary CapitalG|', 'Aye Finance is equity funded by CapitalG , SAIF Partners, Falcon Edge, Accion, LGT, and MAJ Invest The company has raised over Rs 480 crore in equity an|', 'The company, which raised $110 million from Sequoia India, Hillhouse, CapitalG (Alphabet growth investment arm) and Axis Bank earlier this year, said it w|', '\\n----------------------------------------------------------------|\\n']\n",
            "\n",
            "['Bet: googleventures|', 'Keywords Search: googleventures|', 'Query Link:https://www.google.com/search?q=googleventures&source=lmns&tbm=nws&tbs=qdr:m|', 'Subjectivity: 0.2096 Sentiment: 0.05494|', 'Google employees — who spoke anonymously, fearing reprisal — said the work embraced by Gradient Ventures startups appears to circumvent the commitmen|', \"For the second year in a row, Loup Ventures found that Google Assistant answered more questions correctly than Apple's Siri or Amazon's Alexa in its annual IQ|\", 'Upfront Ventures , the 23-year-old, LA-based venture capital firm, is gearing up more recently, spending several years with Google , where Maliwal worked in|', 'Other investors participating in the round included GV (formerly Google Ventures ), Kleiner Perkins, M12 (formerly Microsoft Ventures), Telstra Ventures and Ron|', 'It was joined by GV (formerly Google Ventures ), Kleiner Perkins, M12 and public land include Jay-Z (Marcy Venture Partners) and Will Smith (Dreamers Fund)|', 'Top investors Centene, Google Ventures , Oak HC FT, Norwest Venture Partners, and Y Combinator are flocking towards mental and behavioral health, the|', \"Under a new set of plans publicized this week, Google's subsidiary Planetary Ventures is proposing an extensive, $157 million operation to purge a variety of|\", 'Cryptocurrency company Blockchain is based in the UK with other investors such as Jeremy Liew at Lightspeed and Tom Hulme at Google Ventures , and Owkin|', 'Tiger Global, and GV (formerly Google Ventures ) The raise, which saw participation from existing investors Benchmark, Index Ventures, Redpoint Ventures,|', 'SAN JOSE — Google bought out its real estate partner for a downtown San Jose estate ally to help facilitate multiple development ventures in Silicon Valley|', '\\n----------------------------------------------------------------|\\n']\n",
            "\n",
            "['Bet: sidewalk|', 'Keywords Search: sidewalk|', 'Query Link:https://www.google.com/search?q=sidewalk&source=lmns&tbm=nws&tbs=qdr:m|', 'Subjectivity: 0.24083 Sentiment: -0.03542|', 'The sidewalk was vertically uneven between two concrete panels The height differential was 9 16 of an inch on one side of the panel and one and 7 32 inche|', \"Longview's 14,000 city-owned trees have caused the majority of the damage to sidewalks , according to city staff, so the additional tree crew will help cut an|\", \"Butterflies, lions and cows were just a few of the animals that covered the sidewalks along Mount Airy's Main Street during the town's annual sidewalk chalk|\", \"There were 27 complaints filed with the city's Department of Business Affairs and Consumer Protection about sidewalk cafes in 2016, 103 in 2017 and 106|\", 'The city is making headway on a long-delayed project to repair hundreds of sidewalk ramps throughout Park Slope — after finally replacing its dirty contractor|', \"Need2Know Coppertop Alehouse gets extended liquor license for sidewalk patio week to serve liquor on the alehouse's South Montezuma Street sidewalk|\", 'It happened around 8 45 p m on Friday near 38th and Burleigh According to police, a 27-year-old man was walking on the sidewalk when he heard shots being|', \"We're still getting a lot of bicyclists riding on sidewalks and we need to be didn't believe children on bicycles should be forced off the sidewalk into the ro|\", \"Those wanting sidewalks on Franklin Road will have to wait a smidgen longer While originally supposed to start in the middle of 2019, construction now won'|\", '12) to approve an engineering and design contract with Itasca-based Civiltech Engineering for the project to add sidewalks along portions of Rand and Lake|', '\\n----------------------------------------------------------------|\\n']\n",
            "\n",
            "['Bet: wing|', 'Keywords Search: wing|', 'Query Link:https://www.google.com/search?q=wing&source=lmns&tbm=nws&tbs=qdr:m|', 'Subjectivity: 0.25835 Sentiment: 0.03718|', 'PORTLAND, Ore — Police arrested at least 13 people and seized metal poles, bear spray and other weapons Saturday as hundreds of far-right protesters an|', 'Neela Mollgaard, founder of the entrepreneurial support entity Red Wing Ignite, will become executive director of a similar and new statewide program calle|', \"Built in stages over the past 30 to 40 years, Anderson School's older west or “brown” wing needs so many repairs the School Board has voted to ask voters to|\", 'Wing Stop will a make a break in the Midtown Columbus scene when they open their newest establishment in the Cross Country Plaza on Macon R|', 'In my view, the AfD is much more closely interwoven with right- wing extremism than it appears,\" Schuster told Germany\\'s Welt am Sonntag newspaper|', \"The Springer Mountain Farms Southern Wing Showdown has announced its chef lineup for this year's event The fourth annual wing extravaganza for a cause|\", 'RED WING — Visitors to the fantasy kingdom at Renaissance Festival in Shakopee each year see dozens of interesting characters walking around the groun|', 'Somali American refugee turned congresswoman and another frequent target of right- wing attacks, from visiting Israel on a trip scheduled to start this weeken|', \"She's positing this while sitting in the Flatiron branch of women's-only club The Wing , wearing an aquamarine Armani blazer and red-bottomed stiletto|\", 'Walla Walla deputy saves owl with broken wing Cpl Maas spotted an owl with a broken wing fighting off a couple cats in a front lawn In a Facebook post, the|', '\\n----------------------------------------------------------------|\\n']\n",
            "\n",
            "['Bet: loon|', 'Keywords Search: loon|', 'Query Link:https://www.google.com/search?q=loon&source=lmns&tbm=nws&tbs=qdr:m|', 'Subjectivity: 0.42323 Sentiment: 0.06114|', 'LAKE VERMILION— Some area lake associations may soon be deploying more loon nesting platforms as part of a $7 5 million BP oil spill settlement approve|', 'An unlikely friendship has bloomed on the waters of Wisconsin as a pair of loons adopted an orphaned duckling When Dr Walter Piper learned that two loon|', \"Following a narrow 1-0 victory over the Colorado Rapids Wednesday evening, the Loons have had a quick turnaround for tonight's game against Orlando City|\", \"Evelyn Doolittle, an intern on Piper's team, was the first to spot the loon pair raising the duckling, though new to The Loon Project, she didn't exactly know wh|\", \"Last week the BDN's Christopher Burns told the heart-warming tale of a young loon that was found with a tumor on his foot, received eventual surgery, then w|\", 'OAKLAND (BDN) -- A sunny Monday afternoon on Snow Pond in Oakland for a small group turned into a memorable encounter when they reunite|', 'Several loons in New Hampshire have died from lead poisoning this summer The Loon Preservation Committee in New Hampshire reports that two loon death|', 'OAKLAND — Gary Bennett gently removed the 2-week-old loon from a box and cupped the chick in his gloved hands as the boat drifted Monday in the sparkling|', \"The haunting, echoing call of a loon is a hallmark of Wisconsin's Northwoods So, too, is seeing the regal bird floating along a lake's surface, sometimes with|\", \"It might be an exaggeration to say that loons and mallards are the Montagues and Capulets of the bird world, but they're definitely not friends According to|\", '\\n----------------------------------------------------------------|\\n']\n",
            "\n",
            "['Bet: jigsaw|', 'Keywords Search: jigsaw|', 'Query Link:https://www.google.com/search?q=jigsaw&source=lmns&tbm=nws&tbs=qdr:m|', 'Subjectivity: 0.38859 Sentiment: 0.26466|', 'Explore our jigsaw puzzles, test your wits with our mind-bending trivia, and test your speed with our classic games including Solitaire, Mahjong and more|', 'Jigsaw , the clothing brand Meghan has tapped as a partner in her charitable venture, already offers an impressive selection of workwear basics an|', 'By Roger Ball Independent Newsmedia The jigsaw puzzle solvers are still active at the R H Johnson Sun City West Library, 13801 W Meeker Blvd Overhe|', 'Zee Productions imprint Rock Saws will launch four 500-piece jigsaws in September featuring the covers of Fly By Night, A Farewell To Kings, Permanent Wave|', \"Buffalo Games Jigsaw Puzzles are on sale starting at $5 09 at Amazon right now You'll find themes including coffee &amp doughnuts, road trip, nature, animals,|\", 'Following in the footsteps of metal titans Metallica and prog legends Rush, Ramones are the latest group to receive the jigsaw treatment, with a selection of their|', 'U K \\'s Zee Productions will release four classic RUSH album covers as 500-piece jigsaws later this summer \"Fly By Night\", \"A Farewell To Kings\", \"Permanen|', 'Thank you for your interest in Fiddlehead Focus Please LOG IN or SUBSCRIBE to view the entire article Get the Rest of the Story Thank you for reading your 4|', 'After that success he became the chief executive of Google Ideas, retaining that post when that incubator morphed into Jigsaw at Alphabet, Inc He made Time|', 'Jigsaw , the subsidiary that helped create the tool, called Perspective, pitched it for its debut in 2017 as a way for publishers like The Economist and The|', '\\n----------------------------------------------------------------|\\n']\n",
            "\n",
            "['Bet: makani|', 'Keywords Search: makani|', 'Query Link:https://www.google.com/search?q=makani&source=lmns&tbm=nws&tbs=qdr:m|', 'Subjectivity: 0.28162 Sentiment: 0.06299|', 'The second, longer-duration test, demonstrated crosswind flight as the kite flew following commands from the flight controller However, Makani said th|', 'The kite, owned by the Alphabet Inc -subsidiary Makani and backed by Royal Dutch Floating platforms for conventional turbines do exist, but Makan|', \"IRVINE, Calif --(BUSINESS WIRE)-- Makani Science™, developer of the only wireless sensor designed to non-invasively monitor a sedated patient's breathing|\", 'The actor and his wife, Laura Louie, have three daughters Deni, Zoe and Makani Over the years, he has shared glimpses into his home life in a number of|', 'AES is committed to ensuring the long-anticipated Na Pua Makani wind farm project benefits our North Shore community and contributes to a more sustainable,|', 'Makani Kai News Release Makani Kai Air will begin air service between Kahului, Maui and Kailua-Kona on Aug 1 The airline announced today that it will offer|', 'She will play Makani , “a transfer student new in town She and her friends get caught up in the murders while her blossoming romance with a loner sees him turn|', 'موقع مكاني هو من أحد مشاريع البريد السعودي الالكترونية الذي يقدم خدماته على أكمل وجه بالمملكة العربية السعودية، وفي هذا المقال سنتعرف على موقع مكاني لحجز تذاكر|', 'Park will play Makani , a transfer student new in town She and her friends get caught up in the murders while her blossoming romance with a loner sees him turn|', 'Gjennom sommeren har Google-selskapet Makani testet ut ny teknologi på Marine Energy Test Centre utenfor Karmøy i Rogaland I forrige uke testet Makani en|', '\\n----------------------------------------------------------------|\\n']\n",
            "\n",
            "['Bet: x|', 'Keywords Search: x|', 'Query Link:https://www.google.com/search?q=x&source=lmns&tbm=nws&tbs=qdr:m|', 'Subjectivity: 0.39013 Sentiment: 0.06365|', \"While the Cascade Lake Xeon CPUs has been out for a few months now, Intel still hasn't shared any concrete information regarding Cascade Lake- X However,|\", 'House and Powers of X have spent the past few weeks changing everything we knew about the X -Men on a bold scale Now, as the dust settles from those|', 'Intel might not be quite ready to take the lid off its Cascade Lake- X (CSL- X ) processors, but test results of the upcoming 14nm core-heavy chips have already|', 'There\\'s a galaxy not too far from our own that astronomers were very sure was shaped like an \" X ,\" at least from the perspective of radio telescopes But a new|', \"Huawei's Mate X has suffered another delay The company told TechRadar at a press event in China that there is “no possibility” of the folding phone making|\", 'House Of X #2 may have been one of the most well-received superhero comics this year But with every issue of the HOXPOX series having upended everything|', 'A simple, reversible chemical treatment can segregate X -bearing sperm from Y-bearing sperm, allowing dramatic alteration of the normal 50 50 male female|', \"We're talking the new G I Joe Snake Eyes movie, a potential major Powers of X twist, and Robocop reboot updates We've got all that and we're bringing back|\", 'Has anyone gone through the process of returning their Tesla with in the 7 days I took delivery 3 days ago but considering returning due to about 15 due b|', \"Fight Club NRW #10 is currently going down in Cologne, Germany this weekend where last year's EVO champion, Mouz|Problem X is sitting on winners side of|\", '\\n----------------------------------------------------------------|\\n']\n",
            "\n"
          ],
          "name": "stdout"
        }
      ]
    },
    {
      "cell_type": "code",
      "metadata": {
        "id": "n63NtZRqszy7",
        "colab_type": "code",
        "colab": {}
      },
      "source": [
        "# Save Output to Google Drive\n",
        "from pydrive.auth import GoogleAuth\n",
        "from pydrive.drive import GoogleDrive\n",
        "from google.colab import auth\n",
        "from oauth2client.client import GoogleCredentials\n",
        "\n",
        "# Authenticate and create the PyDrive client\n",
        "auth.authenticate_user()\n",
        "gauth = GoogleAuth()\n",
        "gauth.credentials = GoogleCredentials.get_application_default()\n",
        "drive = GoogleDrive(gauth)  \n",
        "\n",
        "#Clear drive folder\n",
        "# for bet in other_bets:\n",
        "#   file = drive.CreateFile({'id': '1ILOb2ktUG7d9V-BPI2mwH6XSobcpV_V8'})\n",
        "#   results_file = str(bet + '.txt')\n",
        "#   file.Delete()\n",
        "\n",
        "# Get the folder id where the file will be saved the\n",
        "# Iterate for all Bet txt files and save results to Google Drive\n",
        "for bet in other_bets:\n",
        "  file = drive.CreateFile({'parents':[{u'id': '1ILOb2ktUG7d9V-BPI2mwH6XSobcpV_V8'}]})\n",
        "  results_file = str(bet + '.txt')\n",
        "  file.SetContentFile(results_file) \n",
        "  file.Upload()"
      ],
      "execution_count": 0,
      "outputs": []
    }
  ]
}