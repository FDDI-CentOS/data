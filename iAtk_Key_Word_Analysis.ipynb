{
  "nbformat": 4,
  "nbformat_minor": 0,
  "metadata": {
    "colab": {
      "name": "iAtk: Key Word Analysis ",
      "version": "0.3.2",
      "provenance": [],
      "collapsed_sections": [],
      "include_colab_link": true
    },
    "kernelspec": {
      "name": "python3",
      "display_name": "Python 3"
    }
  },
  "cells": [
    {
      "cell_type": "markdown",
      "metadata": {
        "id": "view-in-github",
        "colab_type": "text"
      },
      "source": [
        "<a href=\"https://colab.research.google.com/github/FDDI-CentOS/data/blob/master/iAtk_Key_Word_Analysis.ipynb\" target=\"_parent\"><img src=\"https://colab.research.google.com/assets/colab-badge.svg\" alt=\"Open In Colab\"/></a>"
      ]
    },
    {
      "cell_type": "markdown",
      "metadata": {
        "id": "vhD3f_2Uzid7",
        "colab_type": "text"
      },
      "source": [
        "# **Internal Audit Tool Kit (iAtk): Key Word Analysis Tools**\n",
        "The tools below perform basic frequency and iteration analysis on key words from GDOC and GSHEET files store in Google Drive."
      ]
    },
    {
      "cell_type": "code",
      "metadata": {
        "id": "6afqAhCKz-Bw",
        "colab_type": "code",
        "colab": {
          "base_uri": "https://localhost:8080/",
          "height": 102
        },
        "outputId": "f9a272e4-3f8f-4775-ed03-8626aa002457"
      },
      "source": [
        "# Internal Auditor Tool Kit (iATK) v.1.2\n",
        "# djarguello@ 5-26-19\n",
        "\n",
        "# Setup runtime environment packages, only need to run once\n",
        "!pip install pandas"
      ],
      "execution_count": 2,
      "outputs": [
        {
          "output_type": "stream",
          "text": [
            "Requirement already satisfied: pandas in /usr/local/lib/python3.6/dist-packages (0.24.2)\n",
            "Requirement already satisfied: python-dateutil>=2.5.0 in /usr/local/lib/python3.6/dist-packages (from pandas) (2.5.3)\n",
            "Requirement already satisfied: numpy>=1.12.0 in /usr/local/lib/python3.6/dist-packages (from pandas) (1.16.4)\n",
            "Requirement already satisfied: pytz>=2011k in /usr/local/lib/python3.6/dist-packages (from pandas) (2018.9)\n",
            "Requirement already satisfied: six>=1.5 in /usr/local/lib/python3.6/dist-packages (from python-dateutil>=2.5.0->pandas) (1.12.0)\n"
          ],
          "name": "stdout"
        }
      ]
    },
    {
      "cell_type": "code",
      "metadata": {
        "id": "8krHUUve0YW9",
        "colab_type": "code",
        "colab": {}
      },
      "source": [
        "import pandas as pd\n",
        "import string\n",
        "import re\n",
        "\n",
        "def menu():\n",
        "    print(\"-----------------------------------------------------\")\n",
        "    print(\"--  Welcome to the Internal Audit Tool Kit (iAtk)  --\")\n",
        "    print(\"-----------------------------------------------------\")\n",
        "    program = str(input(\"Please select which tool you would like to run: \\n1) Keyword Analysis Tool \\n2) Unique Word Counter Tool \\n>>> \"))\n",
        "    if program == '1':\n",
        "        keyword_analysis()\n",
        "    elif program == '2':\n",
        "        word_count_instances()\n",
        "    else:\n",
        "        print(\"{} is an invalid input, please rerun the program and try again.\\n\".format(program))\n",
        "        print(\"\\nThank you for using the Internal Auditor Tool Kit (AKA i-Atk)!\")\n",
        "        exit()"
      ],
      "execution_count": 0,
      "outputs": []
    },
    {
      "cell_type": "code",
      "metadata": {
        "id": "rrpBPrp50drG",
        "colab_type": "code",
        "colab": {}
      },
      "source": [
        "# Function to determine default or target source file location\n",
        "\n",
        "def source():\n",
        "    handle = str(input(\"Use the default path to import your source file for analysis? (/Users/Shared/import.txt) Y/N:\"))\n",
        "\n",
        "    if handle.upper() == 'Y':\n",
        "        try:\n",
        "            path = \"/Users/Shared/import.txt\"\n",
        "        except FileNotFoundError:\n",
        "            print(\"File or folder location not found.\")\n",
        "            exit()\n",
        "        return (path)\n",
        "\n",
        "    elif handle.upper() == 'N':\n",
        "        try:\n",
        "            path = str(input(\n",
        "                \"Enter the path and file name you wish to import for analysis (Example: /Users/Shared/import.txt):\"))\n",
        "        except FileNotFoundError:\n",
        "            print(\"File or folder location not found.\")\n",
        "            exit()\n",
        "        return (path)\n",
        "\n",
        "    else:\n",
        "        print(\"Unsupported selection, closing application please try again.\")\n",
        "        exit()\n",
        "\n",
        "    return(path)"
      ],
      "execution_count": 0,
      "outputs": []
    },
    {
      "cell_type": "code",
      "metadata": {
        "id": "mhWHzAWK06PQ",
        "colab_type": "code",
        "colab": {}
      },
      "source": [
        "# Function to determine default or target destination file locations\n",
        "\n",
        "def destination():\n",
        "    handle = str(input(\"Output your results to the default path? (/Users/Shared/output.txt) Y/N:\"))\n",
        "\n",
        "    if handle.upper() == 'Y':\n",
        "        try:\n",
        "            path = \"/Users/Shared/output.txt\"\n",
        "        except FileNotFoundError:\n",
        "            print(\"File or folder location not found.\")\n",
        "            exit()\n",
        "        return (path)\n",
        "    elif handle.upper() == 'N':\n",
        "        try:\n",
        "            path = str(input(\"Enter the path and file name you wish to save your output to (Example: /Users/Shared/output.txt):\"))\n",
        "        except FileNotFoundError:\n",
        "            print(\"File or folder location not found.\")\n",
        "            exit()\n",
        "        return (path)\n",
        "    else:\n",
        "        print(\"Unsupported selection, closing application please try again.\")\n",
        "        exit()"
      ],
      "execution_count": 0,
      "outputs": []
    },
    {
      "cell_type": "code",
      "metadata": {
        "id": "b7gJpppP12m9",
        "colab_type": "code",
        "colab": {}
      },
      "source": [
        "# Key word analysis function searches file and returns all instances of sentences with those words\n",
        "\n",
        "def keyword_analysis(): \n",
        "\n",
        "    path = source()\n",
        "    output = destination()\n",
        "    location = str(output)\n",
        "    keyword = str(input(\"Enter the keyword you wish to search for: \"))\n",
        "\n",
        "    mylines = []                         # Instantiate an empty list\n",
        "    counter = 0                          # Counts the number of lines the keyword is found in the file\n",
        "\n",
        "    if path[-3:] == \"txt\":\n",
        "        with open (path, 'rt+') as myfile:    # Open the file for reading text.\n",
        "            for myline in myfile:                   # For each line in the file,\n",
        "                mylines.append(myline.rstrip('\\n')) # strip newline and add to list.\n",
        "\n",
        "        for line in mylines:                 # Counter for times keyword is referenced\n",
        "            if keyword.lower() in line.lower():\n",
        "                counter += 1\n",
        "\n",
        "        output = open(output,'w+')\n",
        "        output.write(\"The keyword '{}', is referenced in {} of {} lines in the {} file.\\n\\n\".format(keyword,counter,str(len(mylines)),path))\n",
        "\n",
        "        for line in mylines:                # Print out line index and lines with keyword in it\n",
        "            if keyword.lower() in line.lower():\n",
        "                output.write(str(mylines.index(line)) + \" \" + str(line) +\"\\n\")\n",
        "\n",
        "    elif path[-3:] == \"csv\":\n",
        "        df = pd.read_csv(path)\n",
        "        df.to_csv(output, index=None, sep=\"|\")\n",
        "\n",
        "        with open (output, 'rt+') as myfile:    # Open the file for reading text.\n",
        "            for myline in myfile:                   # For each line in the file,\n",
        "                mylines.append(myline.rstrip('\\n')) # strip newline and add to list.\n",
        "\n",
        "        for line in mylines:                 # Counter for times keyword is referenced\n",
        "            if keyword.lower() in line.lower():\n",
        "                counter += 1\n",
        "\n",
        "        output = open(output,'w+')\n",
        "        output.write(\"The keyword '{}', is referenced in {} of {} lines in the {} file.\\n\\n\".format(keyword,counter,str(len(mylines)),path))\n",
        "\n",
        "        for line in mylines:                # Print out line index and lines with keyword in it\n",
        "            if keyword.lower() in line.lower():\n",
        "                output.write(str(mylines.index(line)) + \" \" + str(line) +\"\\n\")\n",
        "\n",
        "    else:\n",
        "        print(\"{} is an unsupported file type please try again.\".format(path[-3:]))\n",
        "\n",
        "\n",
        "    # print(\"Process complete! Please go to your {} file for results.\".format(location))\n",
        "    # print(\"\\nThank you for using the Internal Auditor Tool Kit (AKA i-Atk)!\")\n",
        "    exit()\n"
      ],
      "execution_count": 0,
      "outputs": []
    },
    {
      "cell_type": "code",
      "metadata": {
        "id": "oEJrMqy3za-P",
        "colab_type": "code",
        "colab": {}
      },
      "source": [
        "# Word count function to analyze the number iterations a word is used in a doc\n",
        "\n",
        "def word_count_instances(): \n",
        "\n",
        "    from collections import Counter\n",
        "\n",
        "    path = source()\n",
        "    output = destination()\n",
        "    location = str(output)\n",
        "    newfile = []\n",
        "    # file = open(str(path)).read().split()\n",
        "    #\n",
        "    # c = Counter(file)  # Counter is a dictionary, use key value pairs to port data out\n",
        "    # most_occur = c.most_common(20)\n",
        "\n",
        "    if path[-3:] == \"txt\":\n",
        "        file = open(str(path), encoding='utf-8-sig').read().split()\n",
        "        for line in file:\n",
        "            line = str(line)\n",
        "            line = re.sub(r'^\"|\"$', '', line)\n",
        "            newfile.append(line)\n",
        "        print(newfile)\n",
        "\n",
        "        c = Counter(newfile)  # Counter is a dictionary, use key value pairs to port data out\n",
        "        most_occur = c.most_common(20)\n",
        "\n",
        "    elif path[-3:] == \"csv\":\n",
        "        df = pd.read_csv(path)\n",
        "        df.to_csv(output, index=None, sep=\" \")\n",
        "        file = open(str(output), encoding='utf-8-sig').read().split()\n",
        "        file = list(filter(None, file))\n",
        "        print(type(file))\n",
        "        for line in file:\n",
        "            line = str(line)\n",
        "            line = re.sub(r'^\"|\"$', '', line)\n",
        "            newfile.append(line)\n",
        "        print(newfile)\n",
        "\n",
        "        c = Counter(newfile)  # Counter is a dictionary, use key value pairs to port data out\n",
        "        most_occur = c.most_common(20)\n",
        "\n",
        "    else:\n",
        "        print(\"{} is an unsupported file type please try again.\".format(path[-3:]))\n",
        "\n",
        "    with open(output, 'w') as f:\n",
        "        f.write(\"This Output File is '|' Delimited\\n\")\n",
        "        f.write(\"Here are the top 20 most occurring words\\n\")\n",
        "        f.write(\"Word | Count\\n\")\n",
        "        for line in most_occur:\n",
        "            line = str(line)\n",
        "            f.write(line + \"\\n\")\n",
        "        f.write(\"\\n------------------------------------------------------\\n\")\n",
        "        f.write(\"\\n\\nBelow is the full count of all word instances in {}\\n\".format(path))\n",
        "        f.write(\"Note the Raw Data Output is '|' Delimited\\n\\n\")\n",
        "        f.write(\"Word|Count\\n\")\n",
        "        sorted(c)\n",
        "        for k, v in c.items():\n",
        "            f.write(str(k)+ \"|\" + str(v) +\"\\n\")\n",
        "\n",
        "    print(\"Process complete! Please go to your {} file for results.\".format(location))\n",
        "    print(\"\\nThank you for using the Internal Auditor Tool Kit (AKA i-Atk)!\")\n",
        "    exit()"
      ],
      "execution_count": 0,
      "outputs": []
    },
    {
      "cell_type": "code",
      "metadata": {
        "id": "zpS3GUzP2ZZc",
        "colab_type": "code",
        "colab": {}
      },
      "source": [
        "# Calls Menu Function to Launch Application\n",
        "\n",
        "menu()"
      ],
      "execution_count": 0,
      "outputs": []
    }
  ]
}